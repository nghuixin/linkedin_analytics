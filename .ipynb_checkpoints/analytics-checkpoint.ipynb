{
 "cells": [
  {
   "cell_type": "code",
   "execution_count": 1,
   "id": "b661c9e1-c04a-4e49-958a-4c66aed1bb72",
   "metadata": {},
   "outputs": [],
   "source": [
    "import pandas as pd\n",
    "import numpy as np\n",
    "import csv\n",
    "import os\n",
    "import matplotlib.pyplot as plt\n",
    "import seaborn as sns\n",
    "import pygwalker as pyg\n",
    "# import openai"
   ]
  },
  {
   "cell_type": "code",
   "execution_count": 2,
   "id": "01f83c8d-0e29-4d49-a153-168231b49f1d",
   "metadata": {},
   "outputs": [
    {
     "name": "stdout",
     "output_type": "stream",
     "text": [
      "<class 'pandas.core.frame.DataFrame'>\n",
      "RangeIndex: 4228 entries, 0 to 4227\n",
      "Data columns (total 9 columns):\n",
      " #   Column           Non-Null Count  Dtype \n",
      "---  ------           --------------  ----- \n",
      " 0   First Name       4159 non-null   object\n",
      " 1   Last Name        4159 non-null   object\n",
      " 2   URL              4159 non-null   object\n",
      " 3   Email Address    59 non-null     object\n",
      " 4   Company          4098 non-null   object\n",
      " 5   Position         4099 non-null   object\n",
      " 6   Connected On     4228 non-null   object\n",
      " 7   Connected Year   4228 non-null   int32 \n",
      " 8   Connected Month  4228 non-null   int32 \n",
      "dtypes: int32(2), object(7)\n",
      "memory usage: 264.4+ KB\n"
     ]
    }
   ],
   "source": [
    "df = pd.read_csv('Connections.csv', skiprows = 3)\n",
    "df['Connected Year'] = pd.to_datetime(df['Connected On']).dt.year\n",
    "df['Connected Month'] = pd.to_datetime(df['Connected On']).dt.month\n",
    "df.info()"
   ]
  },
  {
   "cell_type": "code",
   "execution_count": null,
   "id": "ee43c3ed-7660-4286-b624-1f4c90b2bc6d",
   "metadata": {
    "scrolled": true
   },
   "outputs": [
    {
     "data": {
      "application/vnd.jupyter.widget-view+json": {
       "model_id": "39e39e4ad10747c18a0d1d4cc1bcc023",
       "version_major": 2,
       "version_minor": 0
      },
      "text/plain": [
       "Box(children=(HTML(value='\\n<div id=\"ifr-pyg-0006213bac5bd3a7YeldcTtHDR4uKSoP\" style=\"height: auto\">\\n    <hea…"
      ]
     },
     "metadata": {},
     "output_type": "display_data"
    },
    {
     "data": {
      "text/html": [
       "<script>\n",
       "    window.addEventListener(\"message\", function(event) {\n",
       "        const backgroundMap = {\n",
       "            \"dark\": \"hsl(240 10% 3.9%)\",\n",
       "            \"light\": \"hsl(0 0 100%)\",\n",
       "        };\n",
       "        const colorMap = {\n",
       "            \"dark\": \"hsl(0 0% 98%)\",\n",
       "            \"light\": \"hsl(240 10% 3.9%)\",\n",
       "        };\n",
       "        if (event.data.action === \"changeAppearance\" && event.data.gid === \"0006213bac5bd3a7YeldcTtHDR4uKSoP\") {\n",
       "            var iframe = document.getElementById(\"gwalker-0006213bac5bd3a7YeldcTtHDR4uKSoP\");\n",
       "            iframe.style.background  = backgroundMap[event.data.appearance];\n",
       "            iframe.style.color = colorMap[event.data.appearance];\n",
       "        }\n",
       "    });\n",
       "</script>"
      ],
      "text/plain": [
       "<IPython.core.display.HTML object>"
      ]
     },
     "metadata": {},
     "output_type": "display_data"
    },
    {
     "data": {
      "text/html": [],
      "text/plain": [
       "<IPython.core.display.HTML object>"
      ]
     },
     "metadata": {},
     "output_type": "display_data"
    },
    {
     "data": {
      "text/plain": [
       "<pygwalker.api.pygwalker.PygWalker at 0x1e690b6e450>"
      ]
     },
     "execution_count": 3,
     "metadata": {},
     "output_type": "execute_result"
    }
   ],
   "source": [
    "pyg.walk(df)"
   ]
  },
  {
   "cell_type": "code",
   "execution_count": null,
   "id": "6605bdfb-2355-4b93-9ffc-f3c92b67ea31",
   "metadata": {},
   "outputs": [],
   "source": [
    "percentage_connections_year = df['Connected Year'].value_counts()/df['Connected Year'].value_counts().sum()*100\n",
    "sns.barplot(percentage_connections_year)\n",
    "# Rotate the x-ticks\n",
    "plt.xticks(rotation=45)\n",
    "# Display the plot\n",
    "plt.axhline(y = 10, color = 'r', linestyle = '-') \n",
    "plt.show()"
   ]
  },
  {
   "cell_type": "code",
   "execution_count": null,
   "id": "b1be6576-1bd6-4664-b92a-f3bd992e2334",
   "metadata": {},
   "outputs": [],
   "source": []
  },
  {
   "cell_type": "code",
   "execution_count": null,
   "id": "84bb2dad-0dcf-4032-9bec-f99a1378b567",
   "metadata": {},
   "outputs": [],
   "source": [
    "# Filter and get the top 15 positions for each plot\n",
    "transition1 = df.loc[df['Connected Year'].isin([2016, 2017, 2018])]['Position'].value_counts().head(15)\n",
    "transition2 = df.loc[df['Connected Year'].isin([2023, 2024])]['Position'].value_counts().head(15)\n",
    "all_years = df['Position'].value_counts().head(15)\n",
    "\n",
    "# Create a figure with 3 subplots in a row\n",
    "fig, axs = plt.subplots(1, 3, figsize=(20, 8))\n",
    "\n",
    "# Plot 1\n",
    "sns.barplot(x=transition1.index, y=transition1.values, ax=axs[0])\n",
    "axs[0].set_title('Years 2016-2018')\n",
    "axs[0].set_xlabel('Position')\n",
    "axs[0].set_ylabel('Counts')\n",
    "axs[0].tick_params(axis='x', rotation=90)\n",
    "\n",
    "# Plot 2\n",
    "sns.barplot(x=transition2.index, y=transition2.values, ax=axs[1])\n",
    "axs[1].set_title('Years 2024')\n",
    "axs[1].set_xlabel('Position')\n",
    "axs[1].set_ylabel('Counts')\n",
    "axs[1].tick_params(axis='x', rotation=90)\n",
    "\n",
    "# Plot 3\n",
    "sns.barplot(x=all_years.index, y=all_years.values, ax=axs[2])\n",
    "axs[2].set_title('Years 2011-2024')\n",
    "axs[2].set_xlabel('Position')\n",
    "axs[2].set_ylabel('Counts')\n",
    "axs[2].tick_params(axis='x', rotation=90)\n",
    "\n",
    "plt.tight_layout()\n",
    "plt.show()"
   ]
  },
  {
   "cell_type": "markdown",
   "id": "d9ca260a-c87f-4766-a9e3-ab9bd4ad9403",
   "metadata": {},
   "source": [
    "### Top 15 Companies connected with across Years 2016-2018, 2024, and across all years"
   ]
  },
  {
   "cell_type": "code",
   "execution_count": null,
   "id": "bfbbb4c8-d2c7-41c8-a2a9-8f5d87dfcdf9",
   "metadata": {},
   "outputs": [],
   "source": [
    "# Filter and get the top 15 positions for each plot\n",
    "transition1 = df.loc[df['Connected Year'].isin([2016, 2017, 2018])]['Company'].value_counts().head(15)\n",
    "transition2 = df.loc[df['Connected Year'].isin([2023, 2024])]['Company'].value_counts().head(15)\n",
    "all_years = df['Company'].value_counts().head(15)\n",
    "\n",
    "# Create a figure with 3 subplots in a row\n",
    "fig, axs = plt.subplots(1, 3, figsize=(20, 8))\n",
    "\n",
    "# Plot 1\n",
    "sns.barplot(x=transition1.index, y=transition1.values, ax=axs[0])\n",
    "axs[0].set_title('Years 2016-2018')\n",
    "axs[0].set_xlabel('Company')\n",
    "axs[0].set_ylabel('Counts')\n",
    "axs[0].tick_params(axis='x', rotation=90)\n",
    "\n",
    "# Plot 2\n",
    "sns.barplot(x=transition2.index, y=transition2.values, ax=axs[1])\n",
    "axs[1].set_title('Years 2024')\n",
    "axs[1].set_xlabel('Company')\n",
    "axs[1].set_ylabel('Counts')\n",
    "axs[1].tick_params(axis='x', rotation=90)\n",
    "\n",
    "# Plot 3\n",
    "sns.barplot(x=all_years.index, y=all_years.values, ax=axs[2])\n",
    "axs[2].set_title('Years 2011-2024')\n",
    "axs[2].set_xlabel('Company')\n",
    "axs[2].set_ylabel('Counts')\n",
    "axs[2].tick_params(axis='x', rotation=90)\n",
    "\n",
    "plt.tight_layout()\n",
    "plt.show()"
   ]
  },
  {
   "cell_type": "markdown",
   "id": "1c93813a-23cb-46ec-8264-c90ee1114aaa",
   "metadata": {},
   "source": [
    "### Historical Overlap of Top Companies: 2016-2018 and 2024 vs. All-Time Patterns\n",
    "\n",
    "\n",
    "\n",
    "\n",
    "\n",
    "\n"
   ]
  },
  {
   "cell_type": "code",
   "execution_count": null,
   "id": "02a1413a-1c00-4201-b938-3103f6d32dd1",
   "metadata": {},
   "outputs": [],
   "source": [
    "companies_2016_2018 = set(df.loc[df['Connected Year'].isin([2016, 2017, 2018])]['Company'].value_counts().head(15).index)\n",
    "companies_2024 = set(df.loc[df['Connected Year'].isin([2023, 2024])]['Company'].value_counts().head(15).index)\n",
    "all_companies = set(df['Company'].value_counts().head(15).index)\n",
    "\n",
    "# Find overlapping companies between 2024 and all years\n",
    "all_years_overlap_with_2024 = all_companies.intersection(companies_2024)\n",
    "print(all_years_overlap_with_2024)\n",
    "\n",
    "# Find overlapping companies between 2016-2018 and all years\n",
    "all_years_overlap_with_20161718 = all_companies.intersection(companies_2016_2018)\n",
    "print(all_years_overlap_with_20161718)\n",
    "\n",
    "# Find companies in 2016-2018 but not in all years\n",
    "unique_2016_2018 = companies_2016_2018.difference(all_companies)\n",
    "print(unique_2016_2018)\n",
    "\n",
    "# Find companies in 2024 but not all years\n",
    "unique_2024 = companies_2024.difference(all_companies)\n",
    "print(unique_2024)"
   ]
  },
  {
   "cell_type": "markdown",
   "id": "500374a0-fe5c-4b4f-8870-0bc200405423",
   "metadata": {},
   "source": [
    "### Number of connections all-time"
   ]
  },
  {
   "cell_type": "code",
   "execution_count": null,
   "id": "992f2817-5a84-4b74-8937-953b17798472",
   "metadata": {},
   "outputs": [],
   "source": [
    "g = sns.barplot((df['Connected Year']).value_counts())\n",
    "g.set_title(\"Number of connections made between 2011-2024\")\n",
    "# Rotate the x-ticks\n",
    "plt.xticks(rotation=45)\n",
    "# Display the plot\n",
    "plt.show()"
   ]
  },
  {
   "cell_type": "markdown",
   "id": "94d75111-93a7-4f11-a502-5b4c9f7c8a27",
   "metadata": {},
   "source": [
    "### Number of Connections made across Years 2016-2018 and Year 2024"
   ]
  },
  {
   "cell_type": "code",
   "execution_count": null,
   "id": "fac227db-e933-4cd2-9b74-f7c038e12ab7",
   "metadata": {},
   "outputs": [],
   "source": [
    "df['Connected Month'] =  pd.to_datetime(df['Connected On']).dt.month\n",
    "# Plotting\n",
    "plt.figure(figsize=(10, 5))\n",
    "\n",
    "for year in [2016, 2017, 2018, 2024]:\n",
    "    yearly_data = df[df['Connected Year'] == year]\n",
    "    month_counts = yearly_data['Connected Month'].value_counts().sort_index()  # Ensure months are sorted\n",
    "    plt.plot(month_counts.index, month_counts.values, marker='x', label=str(year))\n",
    "\n",
    "plt.title('Number of Connections by Month across 2017, 2018 and 2024')\n",
    "plt.xlabel('Month')\n",
    "plt.ylabel('Number of Connections')\n",
    "plt.xticks(range(1, 13))  # Set x-axis ticks to represent months 1-12\n",
    "plt.legend(title='Year')\n",
    "plt.grid(True)\n",
    "plt.show()"
   ]
  },
  {
   "cell_type": "markdown",
   "id": "b66b616e-944a-4c60-9389-078184d06443",
   "metadata": {},
   "source": [
    "### Word Cloud of Position of Connections"
   ]
  },
  {
   "cell_type": "code",
   "execution_count": null,
   "id": "3f2d6271-40a4-4b51-8a76-a49ea2174fb7",
   "metadata": {},
   "outputs": [],
   "source": [
    "import re\n",
    "import matplotlib.pyplot as plt\n",
    "from wordcloud import WordCloud\n",
    "\n",
    "for year in [2017, 2024]:\n",
    "    # Filter the DataFrame for the current year in the loop\n",
    "    yearly_data = df[df['Connected Year'] == year]\n",
    "    \n",
    "    # Assuming 'Position' is the column containing the text data\n",
    "    text = \" \".join(yearly_data['Position'].astype(str))\n",
    "    \n",
    "    # Remove all numbers and punctuation\n",
    "    text = re.sub(r'[^\\w\\s]', '', text)  # Remove punctuation\n",
    "    text = re.sub(r'\\d+', '', text)      # Remove numbers\n",
    "    \n",
    "    # Create and generate a word cloud image\n",
    "    wordcloud = WordCloud().generate(text)\n",
    "    \n",
    "    # Display the generated image with the year as the title\n",
    "    plt.imshow(wordcloud, interpolation='bilinear')\n",
    "    plt.title(f\"Word Cloud for {year}\")\n",
    "    plt.axis(\"off\")  # Turn off the axis\n",
    "    plt.show()  # Display the word cloud image\n"
   ]
  },
  {
   "cell_type": "code",
   "execution_count": null,
   "id": "1f90a74b-1f75-4a0b-8e53-5cc905cf46be",
   "metadata": {},
   "outputs": [],
   "source": [
    "# Filter the DataFrame for the year 2024 and month 8\n",
    "yearly_data = df[(df['Connected Year'] == 2024) & (df['Connected Month'].isin([7,8]))]\n",
    "\n",
    "# Assuming 'Position' is the column containing the text data\n",
    "text = \" \".join(yearly_data['Position'].astype(str))\n",
    "\n",
    "# Remove all numbers and punctuation\n",
    "text = re.sub(r'[^\\w\\s]', '', text)  # Remove punctuation\n",
    "text = re.sub(r'\\d+', '', text)      # Remove numbers\n",
    "\n",
    "# Create and generate a word cloud image\n",
    "wordcloud = WordCloud().generate(text)\n",
    "\n",
    "# Display the generated image\n",
    "plt.imshow(wordcloud, interpolation='bilinear')\n",
    "plt.axis(\"off\")  # Turn off the axis\n",
    "plt.show()  # Display the word cloud image"
   ]
  },
  {
   "cell_type": "code",
   "execution_count": null,
   "id": "94a5077e-e821-4baf-bfc4-1e542b293c46",
   "metadata": {},
   "outputs": [],
   "source": [
    "# Select a column to analyze\n",
    "column_data = df['Company'].tolist()\n",
    "openai.api_key = api_key\n",
    "\n",
    "# # Create a chat completion request to analyze the column data\n",
    "# chat_completion = openai.chat.completions.create(\n",
    "#     messages=[\n",
    "#         {\n",
    "#             \"role\": \"user\",\n",
    "#             \"content\": f\"Analyze the following data:\\n{column_data}\",\n",
    "#         }\n",
    "#     ],\n",
    "#     model=\"gpt-3.5-turbo\",\n",
    "# )\n",
    "\n",
    "# # Print the response from the model\n",
    "# print(chat_completion.choices[0].message[\"content\"].strip())"
   ]
  }
 ],
 "metadata": {
  "kernelspec": {
   "display_name": "Python 3 (ipykernel)",
   "language": "python",
   "name": "python3"
  },
  "language_info": {
   "codemirror_mode": {
    "name": "ipython",
    "version": 3
   },
   "file_extension": ".py",
   "mimetype": "text/x-python",
   "name": "python",
   "nbconvert_exporter": "python",
   "pygments_lexer": "ipython3",
   "version": "3.12.4"
  }
 },
 "nbformat": 4,
 "nbformat_minor": 5
}
